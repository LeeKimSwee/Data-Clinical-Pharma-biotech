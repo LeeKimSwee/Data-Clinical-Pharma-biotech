{
 "cells": [
  {
   "cell_type": "markdown",
   "metadata": {},
   "source": [
    "To import a txt file and transform if as a list. Note here new line separation"
   ]
  },
  {
   "cell_type": "code",
   "execution_count": 5,
   "metadata": {
    "collapsed": false
   },
   "outputs": [],
   "source": [
    "import os"
   ]
  },
  {
   "cell_type": "code",
   "execution_count": 9,
   "metadata": {
    "collapsed": true
   },
   "outputs": [],
   "source": [
    "os.chdir('/Users/kim/BioMed X Lee Kim Swee/BioMed X Matthias/Suppression Screen')"
   ]
  },
  {
   "cell_type": "code",
   "execution_count": 10,
   "metadata": {
    "collapsed": false
   },
   "outputs": [
    {
     "data": {
      "text/plain": [
       "['.DS_Store',\n",
       " '.Rapp.history',\n",
       " '.RData',\n",
       " '.Rhistory',\n",
       " '170509.pdf',\n",
       " '170601_screen.xlsx',\n",
       " '170602 Full raw data set CRISPR-HTS.xlsx',\n",
       " '170602_Suppression_Screen.xlsx',\n",
       " '170602_Suppression_Screen_exp.xlsx',\n",
       " '170602_Suppression_Screen_plate.xlsx',\n",
       " '170605 Full raw data set CRISPR-HTS.xlsx',\n",
       " '170605_rank_per_exp.xlsx',\n",
       " '170605_rank_per_plate.xlsx',\n",
       " 'Call_IMT_08_06_2017.docx',\n",
       " 'Column definitions HT suppression assay.docx',\n",
       " 'Fig170607.pdf',\n",
       " 'Functional_screen_results_070617.xlsx',\n",
       " 'Functional_screen_results_080617.xlsx',\n",
       " 'Functional_Screen_v170411.xlsx',\n",
       " 'Functional_Screen_v170420.xlsx',\n",
       " 'Gene_guide_table_080617.xlsx',\n",
       " 'Gene_Selection_050617.xlsx',\n",
       " 'Gene_Selection_050617_Columns_ID.docx',\n",
       " 'Gene_Selection_070617.xlsx',\n",
       " 'Gene_selection_120617.xlsx',\n",
       " 'Gene_Selection_1gRNA_0.05_080617.xlsx',\n",
       " 'Gene_Selection_2gRNA_0.05_080617.xlsx',\n",
       " 'Gene_Selection_2gRNA_0.1_080617.xlsx',\n",
       " 'Gene_Selection_RNAseq_070617.xlsx',\n",
       " 'Gene_Selection_RNAseq_080617.xlsx',\n",
       " 'Gene_Selection_table_2gRNA_0.1_080617.xlsx',\n",
       " 'Gene_Selection_x_PMID28129544_tableS2a_210617.xlsx',\n",
       " 'Genes_screened_260617.xlsx',\n",
       " 'Genes_validation_130617.txt',\n",
       " 'Genes_validation_130617.xlsx',\n",
       " 'LKS170411.R',\n",
       " 'LKS170419.R',\n",
       " 'LKS170601.R',\n",
       " 'LKS170601.xlsx',\n",
       " 'LKS170602.pptx',\n",
       " 'LKS170602.xlsx',\n",
       " 'LKS170605.pptx',\n",
       " 'LKS170605.R',\n",
       " 'LKS170605.xlsx',\n",
       " 'LKS170605_b.pptx',\n",
       " 'LKS170605_screen.xlsx',\n",
       " 'LKS170621.R',\n",
       " 'PMID28129544_Ts2a.xlsx',\n",
       " 'Screen170605.xlsx',\n",
       " 'Summary_IFN.pdf',\n",
       " 'Summary_MDSC_output.pdf',\n",
       " 'Summary_NUP_input.pdf',\n",
       " 'Summary_NUPin_vs_MDSCout.pdf',\n",
       " 'Summary_Suppression1.pdf',\n",
       " 'Summary_Suppression2.pdf',\n",
       " 'Summary_Suppression3.pdf',\n",
       " 'Summary_T_output.pdf',\n",
       " 'Suppression_Screen.pptx',\n",
       " 'Validation_x_GRAN:MONO.xlsx',\n",
       " 'working170419.R',\n",
       " 'Z_final_selection.xlsx',\n",
       " 'Z_selection.xlsx',\n",
       " 'Z_selection_gene.xlsx',\n",
       " 'Z_selection_gRNA.xlsx']"
      ]
     },
     "execution_count": 10,
     "metadata": {},
     "output_type": "execute_result"
    }
   ],
   "source": [
    "os.listdir()"
   ]
  },
  {
   "cell_type": "code",
   "execution_count": 12,
   "metadata": {
    "collapsed": false
   },
   "outputs": [],
   "source": [
    "file = open('/Users/kim/BioMed X Lee Kim Swee/BioMed X Matthias/Suppression Screen/Genes_validation_130617.txt', \"r\")\n",
    "mylist = file.read().split('\\n')"
   ]
  },
  {
   "cell_type": "code",
   "execution_count": 13,
   "metadata": {
    "collapsed": false
   },
   "outputs": [
    {
     "name": "stdout",
     "output_type": "stream",
     "text": [
      "['Genes', 'Aldh1l2', 'Apob', 'Apobr', 'Asgr1', 'Atf6', 'Axl', 'Cadm4', 'CD276', 'Cd79a', 'Cflar', 'Clec1b', 'Clec4e', 'Cxcr1', 'Cyba', 'Cybb', 'Ddit3', 'Dlk1', 'Edn1', 'Egln3', 'Fgf23', 'Gas6', 'Gfi1', 'Havcr2', 'Icosl', 'Il10', 'Il1b', 'Itih1', 'Ldha', 'Mafb', 'Mmp12', 'Nt5e', 'Osmr', 'Rarres1', 'S100a1', 'S100a4', 'S100a5', 'S100a6', 'S100a7a', 'S100b', 'Satb1', 'Scd1', 'Slc14a1', 'Slc16a8', 'Slc1a5', 'Slc9a5', 'Slfn5', 'Socs3', 'Tbc1d8', 'Tgfbr2', 'Tnf', 'Tnfrsf9', 'Trem1', 'Controls', 'CD11b', 'Nos2', 'Hif1a', 'NT1-3', 'NT4-6']\n"
     ]
    }
   ],
   "source": [
    "print (mylist)"
   ]
  },
  {
   "cell_type": "markdown",
   "metadata": {},
   "source": [
    "Program to submit a list of input search to pubmed and output data frame with input and search term "
   ]
  },
  {
   "cell_type": "code",
   "execution_count": 38,
   "metadata": {
    "collapsed": false
   },
   "outputs": [
    {
     "name": "stdout",
     "output_type": "stream",
     "text": [
      "        term    hits\n",
      "0      Genes   10420\n",
      "1    Aldh1l2       0\n",
      "2       Apob      36\n",
      "3      Apobr      36\n",
      "4      Asgr1       1\n",
      "5       Atf6       5\n",
      "6        Axl      22\n",
      "7      Cadm4       0\n",
      "8      CD276      33\n",
      "9      Cd79a      34\n",
      "10     Cflar      17\n",
      "11    Clec1b       0\n",
      "12    Clec4e       0\n",
      "13     Cxcr1      13\n",
      "14      Cyba       1\n",
      "15      Cybb      20\n",
      "16     Ddit3       8\n",
      "17      Dlk1       6\n",
      "18      Edn1       1\n",
      "19     Egln3       3\n",
      "20     Fgf23       0\n",
      "21      Gas6       7\n",
      "22      Gfi1       3\n",
      "23    Havcr2      63\n",
      "24     Icosl      29\n",
      "25      Il10    2321\n",
      "26      Il1b      23\n",
      "27     Itih1       0\n",
      "28      Ldha       2\n",
      "29      Mafb       1\n",
      "30     Mmp12       3\n",
      "31      Nt5e       6\n",
      "32      Osmr       0\n",
      "33   Rarres1       0\n",
      "34    S100a1       2\n",
      "35    S100a4       3\n",
      "36    S100a5       0\n",
      "37    S100a6       0\n",
      "38   S100a7a       0\n",
      "39     S100b      14\n",
      "40     Satb1       2\n",
      "41      Scd1       2\n",
      "42   Slc14a1       0\n",
      "43   Slc16a8       0\n",
      "44    Slc1a5       2\n",
      "45    Slc9a5       0\n",
      "46     Slfn5       0\n",
      "47     Socs3      31\n",
      "48    Tbc1d8       0\n",
      "49    Tgfbr2       4\n",
      "50       Tnf    4092\n",
      "51   Tnfrsf9     267\n",
      "52     Trem1       7\n",
      "53  Controls    8960\n",
      "54     CD11b     675\n",
      "55      Nos2     153\n",
      "56     Hif1a      48\n",
      "57     NT1-3  271873\n",
      "58     NT4-6  271873\n"
     ]
    }
   ],
   "source": [
    "import urllib.parse\n",
    "import urllib.request\n",
    "# requires urllib to get webpage info\n",
    "import re\n",
    "# requires re to locate number of hits in source code\n",
    "import pandas as pd\n",
    "# requires pandas to output data frame\n",
    "\n",
    "Keywords = ['immunotherapy']\n",
    "# define a search list\n",
    "url = 'https://www.ncbi.nlm.nih.gov/pubmed/?term='\n",
    "# open pubmed website with ? for request\n",
    "df = pd.DataFrame()\n",
    "# create empty data frame\n",
    "for i in mylist:\n",
    "    SearchString = Keywords+[i]\n",
    "    myString = \"+\".join(SearchString)\n",
    "    req = url + myString\n",
    "    resp = urllib.request.urlopen(req)\n",
    "    # open page for each request\n",
    "    x = resp.read()\n",
    "    text = x.decode('utf-8')\n",
    "    # transform page into object to pass to re\n",
    "    number = re.search(r'id=\"resultcount\" value=\"(.*)\" /><input name', text)  \n",
    "    hits = number.group(1)\n",
    "    # having identified strings that precedes and follow relevant info, retrieve it using re.search\n",
    "    # then output group with index = 1 \n",
    "    df = df.append({'term':str(i), 'hits': hits}, ignore_index=True)\n",
    "    #append to the dataFrame and print\n",
    "df = df[['term','hits']]\n",
    "print (df)"
   ]
  },
  {
   "cell_type": "code",
   "execution_count": 13,
   "metadata": {
    "collapsed": false
   },
   "outputs": [
    {
     "name": "stdout",
     "output_type": "stream",
     "text": [
      "       term   hits\n",
      "0     T reg   1630\n",
      "1      ILC3    132\n",
      "2  BioMed X  11852\n"
     ]
    }
   ],
   "source": [
    "df = df[['term','hits']]\n",
    "print (df)"
   ]
  },
  {
   "cell_type": "markdown",
   "metadata": {},
   "source": [
    "Save file to current work directory using .to_csv"
   ]
  },
  {
   "cell_type": "code",
   "execution_count": 9,
   "metadata": {
    "collapsed": false
   },
   "outputs": [],
   "source": [
    "df.to_csv('test170201.txt', sep='\\t', index=False)"
   ]
  },
  {
   "cell_type": "code",
   "execution_count": 22,
   "metadata": {
    "collapsed": false
   },
   "outputs": [
    {
     "name": "stdout",
     "output_type": "stream",
     "text": [
      "john+tod+kim+jim+tim\n"
     ]
    }
   ],
   "source": [
    "a = ['john', 'tod']\n",
    "test = ['kim', 'jim', 'tim']\n",
    "names = a+test\n",
    "test2 = \"+\".join(names)\n",
    "print (test2)"
   ]
  },
  {
   "cell_type": "code",
   "execution_count": 35,
   "metadata": {
    "collapsed": false
   },
   "outputs": [
    {
     "name": "stdout",
     "output_type": "stream",
     "text": [
      "https://www.ncbi.nlm.nih.gov/pubmed/?term=MDSC+Genes\n",
      "https://www.ncbi.nlm.nih.gov/pubmed/?term=MDSC+Aldh1l2\n",
      "https://www.ncbi.nlm.nih.gov/pubmed/?term=MDSC+Apob\n",
      "https://www.ncbi.nlm.nih.gov/pubmed/?term=MDSC+Apobr\n",
      "https://www.ncbi.nlm.nih.gov/pubmed/?term=MDSC+Asgr1\n",
      "https://www.ncbi.nlm.nih.gov/pubmed/?term=MDSC+Atf6\n",
      "https://www.ncbi.nlm.nih.gov/pubmed/?term=MDSC+Axl\n",
      "https://www.ncbi.nlm.nih.gov/pubmed/?term=MDSC+Cadm4\n",
      "https://www.ncbi.nlm.nih.gov/pubmed/?term=MDSC+CD276\n",
      "https://www.ncbi.nlm.nih.gov/pubmed/?term=MDSC+Cd79a\n",
      "https://www.ncbi.nlm.nih.gov/pubmed/?term=MDSC+Cflar\n",
      "https://www.ncbi.nlm.nih.gov/pubmed/?term=MDSC+Clec1b\n",
      "https://www.ncbi.nlm.nih.gov/pubmed/?term=MDSC+Clec4e\n",
      "https://www.ncbi.nlm.nih.gov/pubmed/?term=MDSC+Cxcr1\n",
      "https://www.ncbi.nlm.nih.gov/pubmed/?term=MDSC+Cyba\n",
      "https://www.ncbi.nlm.nih.gov/pubmed/?term=MDSC+Cybb\n",
      "https://www.ncbi.nlm.nih.gov/pubmed/?term=MDSC+Ddit3\n",
      "https://www.ncbi.nlm.nih.gov/pubmed/?term=MDSC+Dlk1\n",
      "https://www.ncbi.nlm.nih.gov/pubmed/?term=MDSC+Edn1\n",
      "https://www.ncbi.nlm.nih.gov/pubmed/?term=MDSC+Egln3\n",
      "https://www.ncbi.nlm.nih.gov/pubmed/?term=MDSC+Fgf23\n",
      "https://www.ncbi.nlm.nih.gov/pubmed/?term=MDSC+Gas6\n",
      "https://www.ncbi.nlm.nih.gov/pubmed/?term=MDSC+Gfi1\n",
      "https://www.ncbi.nlm.nih.gov/pubmed/?term=MDSC+Havcr2\n",
      "https://www.ncbi.nlm.nih.gov/pubmed/?term=MDSC+Icosl\n",
      "https://www.ncbi.nlm.nih.gov/pubmed/?term=MDSC+Il10\n",
      "https://www.ncbi.nlm.nih.gov/pubmed/?term=MDSC+Il1b\n",
      "https://www.ncbi.nlm.nih.gov/pubmed/?term=MDSC+Itih1\n",
      "https://www.ncbi.nlm.nih.gov/pubmed/?term=MDSC+Ldha\n",
      "https://www.ncbi.nlm.nih.gov/pubmed/?term=MDSC+Mafb\n",
      "https://www.ncbi.nlm.nih.gov/pubmed/?term=MDSC+Mmp12\n",
      "https://www.ncbi.nlm.nih.gov/pubmed/?term=MDSC+Nt5e\n",
      "https://www.ncbi.nlm.nih.gov/pubmed/?term=MDSC+Osmr\n",
      "https://www.ncbi.nlm.nih.gov/pubmed/?term=MDSC+Rarres1\n",
      "https://www.ncbi.nlm.nih.gov/pubmed/?term=MDSC+S100a1\n",
      "https://www.ncbi.nlm.nih.gov/pubmed/?term=MDSC+S100a4\n",
      "https://www.ncbi.nlm.nih.gov/pubmed/?term=MDSC+S100a5\n",
      "https://www.ncbi.nlm.nih.gov/pubmed/?term=MDSC+S100a6\n",
      "https://www.ncbi.nlm.nih.gov/pubmed/?term=MDSC+S100a7a\n",
      "https://www.ncbi.nlm.nih.gov/pubmed/?term=MDSC+S100b\n",
      "https://www.ncbi.nlm.nih.gov/pubmed/?term=MDSC+Satb1\n",
      "https://www.ncbi.nlm.nih.gov/pubmed/?term=MDSC+Scd1\n",
      "https://www.ncbi.nlm.nih.gov/pubmed/?term=MDSC+Slc14a1\n",
      "https://www.ncbi.nlm.nih.gov/pubmed/?term=MDSC+Slc16a8\n",
      "https://www.ncbi.nlm.nih.gov/pubmed/?term=MDSC+Slc1a5\n",
      "https://www.ncbi.nlm.nih.gov/pubmed/?term=MDSC+Slc9a5\n",
      "https://www.ncbi.nlm.nih.gov/pubmed/?term=MDSC+Slfn5\n",
      "https://www.ncbi.nlm.nih.gov/pubmed/?term=MDSC+Socs3\n",
      "https://www.ncbi.nlm.nih.gov/pubmed/?term=MDSC+Tbc1d8\n",
      "https://www.ncbi.nlm.nih.gov/pubmed/?term=MDSC+Tgfbr2\n",
      "https://www.ncbi.nlm.nih.gov/pubmed/?term=MDSC+Tnf\n",
      "https://www.ncbi.nlm.nih.gov/pubmed/?term=MDSC+Tnfrsf9\n",
      "https://www.ncbi.nlm.nih.gov/pubmed/?term=MDSC+Trem1\n",
      "https://www.ncbi.nlm.nih.gov/pubmed/?term=MDSC+Controls\n",
      "https://www.ncbi.nlm.nih.gov/pubmed/?term=MDSC+CD11b\n",
      "https://www.ncbi.nlm.nih.gov/pubmed/?term=MDSC+Nos2\n",
      "https://www.ncbi.nlm.nih.gov/pubmed/?term=MDSC+Hif1a\n",
      "https://www.ncbi.nlm.nih.gov/pubmed/?term=MDSC+NT1-3\n",
      "https://www.ncbi.nlm.nih.gov/pubmed/?term=MDSC+NT4-6\n"
     ]
    }
   ],
   "source": [
    "Keywords = ['MDSC']\n",
    "# define a search list\n",
    "url = 'https://www.ncbi.nlm.nih.gov/pubmed/?term='\n",
    "# open pubmed website with ? for request\n",
    "df = pd.DataFrame()\n",
    "# create empty data frame\n",
    "for i in mylist:\n",
    "    SearchString = Keywords+[i]\n",
    "    myString = \"+\".join(SearchString)\n",
    "    req = url + myString\n",
    "    print (req)"
   ]
  },
  {
   "cell_type": "code",
   "execution_count": null,
   "metadata": {
    "collapsed": true
   },
   "outputs": [],
   "source": []
  }
 ],
 "metadata": {
  "anaconda-cloud": {},
  "kernelspec": {
   "display_name": "Python [conda root]",
   "language": "python",
   "name": "conda-root-py"
  },
  "language_info": {
   "codemirror_mode": {
    "name": "ipython",
    "version": 3
   },
   "file_extension": ".py",
   "mimetype": "text/x-python",
   "name": "python",
   "nbconvert_exporter": "python",
   "pygments_lexer": "ipython3",
   "version": "3.5.2"
  }
 },
 "nbformat": 4,
 "nbformat_minor": 1
}
