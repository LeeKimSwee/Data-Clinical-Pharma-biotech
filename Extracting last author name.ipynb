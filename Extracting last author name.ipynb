{
 "cells": [
  {
   "cell_type": "markdown",
   "metadata": {},
   "source": [
    "Change file name in directory in a systematic fashion"
   ]
  },
  {
   "cell_type": "code",
   "execution_count": 109,
   "metadata": {
    "collapsed": false
   },
   "outputs": [
    {
     "data": {
      "text/plain": [
       "'/Users/kim/BioMed X Lee Kim Swee/Litterature/ER stress'"
      ]
     },
     "execution_count": 109,
     "metadata": {},
     "output_type": "execute_result"
    }
   ],
   "source": [
    "import os\n",
    "os.chdir('/Users/kim/BioMed X Lee Kim Swee/Litterature/ER stress')\n",
    "os.getcwd()"
   ]
  },
  {
   "cell_type": "markdown",
   "metadata": {},
   "source": [
    "Make a function that take the filename as input, identify the author, title and year\n",
    "Note that re.search does not return the match string! Instead select the desired pattern using string.group(index)\n",
    "Need to make conditional otherwise may return a 'None' which has no .group\n",
    "The use of use is enough, gets TRUE is found"
   ]
  },
  {
   "cell_type": "code",
   "execution_count": 110,
   "metadata": {
    "collapsed": false
   },
   "outputs": [],
   "source": [
    "def rename (text):\n",
    "    import re\n",
    "    author = re.search(r'_([A-Za-z]+)(.pdf|$)', text)\n",
    "    title = re.search(r'_(\\w+)_', text)\n",
    "    year = re.search(r'[0-9]+', text)\n",
    "    if (author and title and year):\n",
    "        return author.group(1)+'_'+year.group(0)+'_'+title.group(1)+'.pdf'\n",
    "    elif (author and year):\n",
    "        return author.group(1)+'_'+year.group(0)+'.pdf'\n",
    "    else:\n",
    "        return text"
   ]
  },
  {
   "cell_type": "markdown",
   "metadata": {},
   "source": [
    "Select the directory where to change file name"
   ]
  },
  {
   "cell_type": "code",
   "execution_count": 107,
   "metadata": {
    "collapsed": false
   },
   "outputs": [
    {
     "data": {
      "text/plain": [
       "'/Users/kim/BioMed X Lee Kim Swee/Litterature/TCR potency'"
      ]
     },
     "execution_count": 107,
     "metadata": {},
     "output_type": "execute_result"
    }
   ],
   "source": [
    "import os\n",
    "os.chdir('/Users/kim/BioMed X Lee Kim Swee/Litterature/TCR potency')\n",
    "os.getcwd()"
   ]
  },
  {
   "cell_type": "markdown",
   "metadata": {},
   "source": [
    "Use a for loop to change all file names using os.rename function"
   ]
  },
  {
   "cell_type": "code",
   "execution_count": 111,
   "metadata": {
    "collapsed": false
   },
   "outputs": [],
   "source": [
    "for filename in os.listdir(\".\"):\n",
    "    os.rename(filename, rename(filename))"
   ]
  }
 ],
 "metadata": {
  "anaconda-cloud": {},
  "kernelspec": {
   "display_name": "Python [conda root]",
   "language": "python",
   "name": "conda-root-py"
  },
  "language_info": {
   "codemirror_mode": {
    "name": "ipython",
    "version": 3
   },
   "file_extension": ".py",
   "mimetype": "text/x-python",
   "name": "python",
   "nbconvert_exporter": "python",
   "pygments_lexer": "ipython3",
   "version": "3.5.2"
  }
 },
 "nbformat": 4,
 "nbformat_minor": 1
}
