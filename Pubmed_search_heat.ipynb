{
 "cells": [
  {
   "cell_type": "markdown",
   "metadata": {},
   "source": [
    "To import a txt file and transform if as a list. Note here new line separation"
   ]
  },
  {
   "cell_type": "markdown",
   "metadata": {},
   "source": [
    "Program to submit a list of input search to pubmed and output data frame with input and search term "
   ]
  },
  {
   "cell_type": "code",
   "execution_count": 7,
   "metadata": {},
   "outputs": [
    {
     "name": "stdout",
     "output_type": "stream",
     "text": [
      "['MS4A4A', 'APCDD1', 'DHCR24', 'CYP19A1', 'EPB41L3', 'FAM69B', 'MELK', 'SIGLEC12', 'IFRD2', 'ELOVL6', 'SLC16A7', 'NIPA1', 'NPDC1', 'SDC4', 'SLC38A5', 'SLC7A1', 'MTHFD1', 'PANX1', 'RRM2', 'TMEM237', 'SLC35F2', 'LDLRAD3', 'ENG', 'SCN8A', 'SRPRB', 'LRP12', 'PLXND1', 'MTHFD1L', 'SLC35G1', 'POLR1E', 'ALG8', 'PTGFRN', 'LRP5', 'ASGR2', 'LINC00116', 'ECSCR', 'IL17RB', 'KCNK13', 'DPY19L4', 'ZDHHC21', 'TMEM97', 'SLC35B4', 'ADORA2B', 'MARCH1', 'SLC22A31', 'EDA2R', 'LRP1', 'FADS1', 'FAM213A', 'SLC16A1', 'LMAN1', 'LRP8', 'KCNMB1', 'WDHD1', 'SLC29A2', 'PTGFR', 'LRFN4', 'KCNQ5', 'CELSR1', 'TMPO', 'DHODH', 'AKAP1', 'MS4A3', 'SLC39A14', 'LGR4', 'NKG7', 'TSPAN4', 'LRP11', 'SLC12A7', 'SLC14A2', 'SCD', 'P2RY1', 'SLC39A8', 'SLC9B2', 'PARVB', 'KLRG1', 'WDR17', 'CEACAM6', 'EDNRB', 'SLC28A3', 'MDFIC', 'CHEK2', 'ADAM22', 'FAM57B', 'CD86', 'ANAPC1', 'SQLE', 'RBL1', 'EVC', 'MGST1', 'SLCO2B1', 'NETO2', 'TMEM217', 'GPI', 'DNAJC5B', 'MLC1', 'TMED3', 'STAB1', 'ANO8', 'SPN']\n"
     ]
    }
   ],
   "source": [
    "file = open('/Users/kim/BioMed X Lee Kim Swee/BioMed X RNAseq/RNA seq Neutrophils/Top100_membrane_invitroCD15.txt', \"r\")\n",
    "mylist = file.read().split('\"\\n\"')\n",
    "mylist[0] = 'MS4A4A'\n",
    "mylist[-1] = 'SPN'\n",
    "print (mylist)"
   ]
  },
  {
   "cell_type": "code",
   "execution_count": 12,
   "metadata": {},
   "outputs": [],
   "source": [
    "rows = []\n",
    "columns = ['tumor', 'cancer', 'monocyte', 'macrophage', 'neutrophil', 'granulocyte', 'myeloid']"
   ]
  },
  {
   "cell_type": "code",
   "execution_count": 13,
   "metadata": {
    "collapsed": true
   },
   "outputs": [],
   "source": [
    "rows = mylist"
   ]
  },
  {
   "cell_type": "code",
   "execution_count": 14,
   "metadata": {},
   "outputs": [
    {
     "name": "stdout",
     "output_type": "stream",
     "text": [
      "         tumor cancer monocyte macrophage neutrophil granulocyte myeloid\n",
      "MS4A4A       4      3        2          4          1           1       1\n",
      "APCDD1       4      7        0          1          0           0       0\n",
      "DHCR24      48     36        1          4          1           0       1\n",
      "CYP19A1   6597   7287       35        136          8          14      17\n",
      "EPB41L3     76     70        0          0          0           1       0\n",
      "FAM69B       0      0        0          0          0           0       0\n",
      "MELK       111    111        5          6          0           0       6\n",
      "SIGLEC12     2      2        0          1          0           0       0\n",
      "IFRD2        6      4        0          0          0           0       0\n",
      "ELOVL6      18     21        1          2          0           0       1\n",
      "SLC16A7     30     23        1          1          0           1       0\n",
      "NIPA1        1      1        0          0          0           0       0\n",
      "NPDC1        4      5        0          0          1           1       1\n",
      "SDC4        85     75        9         15          9           7       2\n",
      "SLC38A5      3      4        0          2          0           0       0\n",
      "SLC7A1      20     10        2          7          0           1       2\n",
      "MTHFD1      52     60        0          0          1           0       1\n",
      "PANX1       51     43        5         26          8           4       2\n",
      "RRM2       204    198        1          5          0           1       8\n",
      "TMEM237      1      2        0          0          0           0       0\n",
      "SLC35F2      6      6        0          0          0           0       0\n",
      "LDLRAD3      1      0        0          0          0           0       0\n",
      "ENG       6646   7255      213        534        143         180      83\n",
      "SCN8A       13     11        3          6          0           0       0\n",
      "SRPRB        4      4        0          0          0           0       0\n",
      "LRP12        5      4        0          0          0           0       0\n",
      "PLXND1      23     25        1          5          1           1       1\n",
      "MTHFD1L      2      5        0          0          0           0       0\n",
      "SLC35G1      0      0        0          0          0           0       0\n",
      "POLR1E       3      6        0          0          0           0       0\n",
      "...        ...    ...      ...        ...        ...         ...     ...\n",
      "SCD        538    875       71         92        106          77      44\n",
      "P2RY1       67     37        4          9          2           2       3\n",
      "SLC39A8      9      8        3          1          0           0       0\n",
      "SLC9B2       0      0        0          0          0           0       0\n",
      "PARVB       13     16        1          3          2           2       1\n",
      "KLRG1       84     61        9          9          7           7       4\n",
      "WDR17        1      1        0          0          0           0       0\n",
      "CEACAM6    146    139        3          8         17          29      13\n",
      "EDNRB      104    113        4          4          0           1       2\n",
      "SLC28A3     18     16        0          2          0           0       1\n",
      "MDFIC        6      3        0          0          0           0       1\n",
      "CHEK2     1220   1160        2          6          1          10      17\n",
      "ADAM22      14     16        0          0          0           0       0\n",
      "FAM57B       0      0        0          0          0           0       0\n",
      "CD86      2806   1904     2059       2050        187         900     802\n",
      "ANAPC1      12     20        0          0          0           0       0\n",
      "SQLE        23     22        2          3          0           0       0\n",
      "RBL1       244    215        1          2          0           2       6\n",
      "EVC         19     14        0          2          1           0       3\n",
      "MGST1       31     35        0          1          0           0       1\n",
      "SLCO2B1     25     45        2          2          0           0       0\n",
      "NETO2        7      6        0          0          0           0       0\n",
      "TMEM217      0      1        0          0          0           0       0\n",
      "GPI       4016   3578      526        645        533         708     241\n",
      "DNAJC5B      1      1        0          0          0           0       0\n",
      "MLC1        72     68        2          3          0           0       2\n",
      "TMED3        3      3        0          0          0           0       0\n",
      "STAB1       26     21       11         38          0           5       1\n",
      "ANO8         0      1        0          0          0           0       0\n",
      "SPN        493    482       20         36         30          26      16\n",
      "\n",
      "[100 rows x 7 columns]\n"
     ]
    }
   ],
   "source": [
    "import urllib.parse\n",
    "import urllib.request\n",
    "# requires urllib to get webpage info\n",
    "import re\n",
    "# requires re to locate number of hits in source code\n",
    "import pandas as pd\n",
    "# requires pandas to output data frame\n",
    "\n",
    "# define a search list\n",
    "url = 'https://www.ncbi.nlm.nih.gov/pubmed/?term='\n",
    "# open pubmed website with ? for request\n",
    "df = pd.DataFrame()\n",
    "# create empty data frame\n",
    "for i in rows:\n",
    "    newrow = []\n",
    "    for j in columns:\n",
    "        req = url + i + \"+\" + j\n",
    "        resp = urllib.request.urlopen(req)\n",
    "        # open page for each request\n",
    "        x = resp.read()\n",
    "        text = x.decode('utf-8')\n",
    "        # transform page into object to pass to re\n",
    "        number = re.search(r'id=\"resultcount\" value=\"(.*)\" /><input name', text)  \n",
    "        hits = number.group(1)\n",
    "        # having identified strings that precedes and follow relevant info, retrieve it using re.search\n",
    "        newrow.append(hits)\n",
    "        # then output group with index = 1 \n",
    "    newrow2 = pd.Series(newrow) # needs to be a pandas Series to append!\n",
    "    # append to the dataFrame\n",
    "    df = df.append(newrow2, ignore_index=True)\n",
    "\n",
    "# Rename row and columns\n",
    "df.index = rows\n",
    "df.columns = columns\n",
    "# Convert all Columns to numeric\n",
    "df.apply(pd.to_numeric)\n",
    "print (df)"
   ]
  },
  {
   "cell_type": "code",
   "execution_count": 15,
   "metadata": {
    "collapsed": true
   },
   "outputs": [],
   "source": [
    "df.to_csv('/Users/kim/BioMed X Lee Kim Swee/BioMed X RNAseq/RNA seq Neutrophils/LKS170908_pubmed_top100.txt', sep='\\t', index=True)"
   ]
  },
  {
   "cell_type": "code",
   "execution_count": 95,
   "metadata": {},
   "outputs": [
    {
     "data": {
      "text/plain": [
       "myeloid          float64\n",
       "cancer           float64\n",
       "tumor            float64\n",
       "immunotherapy    float64\n",
       "immunology       float64\n",
       "dtype: object"
      ]
     },
     "execution_count": 95,
     "metadata": {},
     "output_type": "execute_result"
    }
   ],
   "source": [
    "df2.dtypes"
   ]
  },
  {
   "cell_type": "code",
   "execution_count": 83,
   "metadata": {},
   "outputs": [],
   "source": [
    "import numpy as np\n",
    "df2 = df.apply(pd.to_numeric)"
   ]
  },
  {
   "cell_type": "code",
   "execution_count": 85,
   "metadata": {},
   "outputs": [],
   "source": [
    "# replace 0 by 1 before log transformation\n",
    "df2.replace(0, 1, inplace=True)"
   ]
  },
  {
   "cell_type": "code",
   "execution_count": 87,
   "metadata": {},
   "outputs": [],
   "source": [
    "# log transform all series\n",
    "df2 = df2.apply(np.log10)"
   ]
  },
  {
   "cell_type": "code",
   "execution_count": 88,
   "metadata": {},
   "outputs": [
    {
     "name": "stdout",
     "output_type": "stream",
     "text": [
      "           myeloid    cancer     tumor  immunotherapy  immunology\n",
      "Genes     4.208925  5.354525  5.444562       4.021148    5.131824\n",
      "Aldh1l2   0.000000  0.778151  0.698970       0.000000    0.000000\n",
      "Apob      0.903090  2.728354  2.906335       1.568202    2.879096\n",
      "Apobr     0.903090  2.728354  2.906335       1.568202    2.879096\n",
      "Asgr1     0.000000  0.845098  0.602060       0.000000    0.845098\n",
      "Atf6      1.113943  2.423246  2.454845       0.698970    1.968483\n",
      "Axl       1.732394  2.763428  2.746634       1.342423    2.193125\n",
      "Cadm4     0.000000  0.954243  1.000000       0.000000    0.000000\n",
      "CD276     1.041393  2.170262  2.184691       1.544068    2.146128\n",
      "Cd79a     2.103804  2.989450  3.010300       1.531479    2.774517\n",
      "Cflar     1.662758  2.746634  2.847573       1.230449    2.480007\n",
      "Clec1b    0.000000  0.602060  0.698970       0.000000    0.477121\n",
      "Clec4e    0.903090  0.602060  0.602060       0.000000    1.255273\n",
      "Cxcr1     1.380211  2.387390  2.507856       1.113943    2.632457\n",
      "Cyba      1.041393  1.892095  1.991226       0.000000    1.851258\n",
      "Cybb      1.991226  2.136721  2.413300       1.301030    2.568202\n",
      "Ddit3     1.792392  3.025715  3.080266       0.903090    2.320146\n",
      "Dlk1      1.447158  2.340444  2.320146       0.778151    1.944483\n",
      "Edn1      0.000000  1.623249  1.653213       0.000000    1.278754\n",
      "Egln3     0.301030  1.982271  2.008600       0.477121    0.954243\n",
      "Fgf23     0.301030  2.161368  2.303196       0.000000    1.579784\n",
      "Gas6      1.322219  2.281033  2.292256       0.845098    1.903090\n",
      "Gfi1      1.934498  2.096910  2.049218       0.477121    1.880814\n",
      "Havcr2    1.579784  2.235528  2.292256       1.826075    2.592177\n",
      "Icosl     1.000000  1.690196  1.792392       1.462398    2.269513\n",
      "Il10      2.901458  3.598134  4.094017       3.369030    4.268133\n",
      "Il1b      2.004321  2.624282  3.016197       1.361728    3.002598\n",
      "Itih1     0.000000  0.477121  0.602060       0.000000    0.000000\n",
      "Ldha      0.000000  2.394452  2.361728       0.301030    1.380211\n",
      "Mafb      1.491362  1.908485  1.944483       0.000000    1.505150\n",
      "Mmp12     0.602060  2.110590  2.143015       0.477121    1.880814\n",
      "Nt5e      0.301030  1.913814  1.892095       0.845098    1.724276\n",
      "Osmr      0.000000  1.740363  1.778151       0.000000    1.531479\n",
      "Rarres1   0.000000  1.643453  1.633468       0.000000    0.698970\n",
      "S100a1    0.477121  2.017033  2.089905       0.301030    1.544068\n",
      "S100a4    0.954243  2.846337  2.851258       0.477121    1.929419\n",
      "S100a5    0.000000  1.176091  1.146128       0.000000    0.301030\n",
      "S100a6    0.845098  2.346353  2.382017       0.000000    1.518514\n",
      "S100a7a   0.000000  1.146128  1.146128       0.000000    0.845098\n",
      "S100b     0.845098  2.378398  2.552668       1.146128    2.232996\n",
      "Satb1     1.000000  2.250420  2.240549       0.301030    1.724276\n",
      "Scd1      0.602060  2.146128  2.155336       0.301030    1.462398\n",
      "Slc14a1   0.000000  1.113943  1.041393       0.000000    0.477121\n",
      "Slc16a8   0.000000  0.000000  0.000000       0.000000    0.000000\n",
      "Slc1a5    0.698970  1.959041  1.913814       0.301030    1.176091\n",
      "Slc9a5    0.000000  0.000000  0.000000       0.000000    0.000000\n",
      "Slfn5     0.301030  0.954243  0.698970       0.000000    0.602060\n",
      "Socs3     2.004321  2.689309  2.859138       1.491362    2.829947\n",
      "Tbc1d8    0.000000  0.301030  0.301030       0.000000    0.000000\n",
      "Tgfbr2    1.176091  2.471292  2.442480       0.602060    1.707570\n",
      "Tnf       3.519959  4.375060  5.045127       3.615529    4.720110\n",
      "Tnfrsf9   1.518514  2.559907  2.767156       2.432969    2.805501\n",
      "Trem1     2.586587  1.755875  2.064458       0.845098    2.315970\n",
      "Controls  3.680607  5.015628  5.039390       3.954098    4.945936\n",
      "CD11b     3.351023  3.387746  3.560504       2.833784    3.831870\n",
      "Nos2      2.271842  3.119586  3.534534       2.187521    3.391993\n",
      "Hif1a     2.235528  3.747800  3.791550       1.698970    2.838219\n",
      "NT1-3     5.066468  6.546366  6.536847       5.436376    6.196714\n",
      "NT4-6     5.066468  6.546366  6.536847       5.436376    6.196714\n"
     ]
    }
   ],
   "source": [
    "print (df2)"
   ]
  },
  {
   "cell_type": "code",
   "execution_count": 89,
   "metadata": {},
   "outputs": [
    {
     "data": {
      "image/png": "[encoded data removed]",
      "text/plain": [
       "<matplotlib.figure.Figure at 0x1186cf048>"
      ]
     },
     "metadata": {},
     "output_type": "display_data"
    }
   ],
   "source": [
    "## make heatmap\n",
    "import numpy as np \n",
    "from pandas import DataFrame\n",
    "import matplotlib.pyplot as plt\n",
    "\n",
    "plt.pcolor(df2)\n",
    "plt.yticks(np.arange(0.5, len(df.index), 1), df.index)\n",
    "plt.xticks(np.arange(0.5, len(df.columns), 1), df.columns)\n",
    "plt.show()"
   ]
  },
  {
   "cell_type": "code",
   "execution_count": 9,
   "metadata": {},
   "outputs": [],
   "source": [
    "df.to_csv('test170201.txt', sep='\\t', index=False)"
   ]
  },
  {
   "cell_type": "code",
   "execution_count": 22,
   "metadata": {},
   "outputs": [
    {
     "name": "stdout",
     "output_type": "stream",
     "text": [
      "john+tod+kim+jim+tim\n"
     ]
    }
   ],
   "source": [
    "a = ['john', 'tod']\n",
    "test = ['kim', 'jim', 'tim']\n",
    "names = a+test\n",
    "test2 = \"+\".join(names)\n",
    "print (test2)"
   ]
  },
  {
   "cell_type": "code",
   "execution_count": 41,
   "metadata": {},
   "outputs": [],
   "source": [
    "import pandas as pd\n",
    "\n",
    "first = ['Kim', 'Jim', 'Tim']\n",
    "last = ['Swee', 'Repetti', 'Kocher']\n",
    "\n",
    "df = pd.DataFrame()\n",
    "\n",
    "for i in first:\n",
    "    row = []\n",
    "    for j in last:\n",
    "        name = str(i)+\" \"+str(j)\n",
    "        row.append(name)\n",
    "        row2 = pd.Series(row)\n",
    "    df = df.append(row2, ignore_index= True)\n",
    "df.index = first\n",
    "df.columns = last"
   ]
  },
  {
   "cell_type": "code",
   "execution_count": 42,
   "metadata": {},
   "outputs": [
    {
     "name": "stdout",
     "output_type": "stream",
     "text": [
      "         Swee      Repetti      Kocher\n",
      "Kim  Kim Swee  Kim Repetti  Kim Kocher\n",
      "Jim  Jim Swee  Jim Repetti  Jim Kocher\n",
      "Tim  Tim Swee  Tim Repetti  Tim Kocher\n"
     ]
    }
   ],
   "source": [
    "print (df)"
   ]
  },
  {
   "cell_type": "code",
   "execution_count": 21,
   "metadata": {},
   "outputs": [
    {
     "name": "stdout",
     "output_type": "stream",
     "text": [
      "     0\n",
      "0  kim\n",
      "1  jim\n",
      "2  tim\n",
      "0    1\n",
      "1    4\n",
      "2    6\n"
     ]
    }
   ],
   "source": [
    "df = pd.DataFrame()\n",
    "exemple = ['kim', 'jim', 'tim']\n",
    "df = df.append(exemple)\n",
    "df = df.append([1,4,6])\n",
    "print (df)"
   ]
  },
  {
   "cell_type": "code",
   "execution_count": 14,
   "metadata": {},
   "outputs": [
    {
     "data": {
      "text/html": [
       "<div>\n",
       "<table border=\"1\" class=\"dataframe\">\n",
       "  <thead>\n",
       "    <tr style=\"text-align: right;\">\n",
       "      <th></th>\n",
       "      <th>0</th>\n",
       "    </tr>\n",
       "  </thead>\n",
       "  <tbody>\n",
       "    <tr>\n",
       "      <th>0</th>\n",
       "      <td>1</td>\n",
       "    </tr>\n",
       "    <tr>\n",
       "      <th>1</th>\n",
       "      <td>4</td>\n",
       "    </tr>\n",
       "    <tr>\n",
       "      <th>2</th>\n",
       "      <td>6</td>\n",
       "    </tr>\n",
       "  </tbody>\n",
       "</table>\n",
       "</div>"
      ],
      "text/plain": [
       "   0\n",
       "0  1\n",
       "1  4\n",
       "2  6"
      ]
     },
     "execution_count": 14,
     "metadata": {},
     "output_type": "execute_result"
    }
   ],
   "source": [
    "df.append([1,4,6], i)"
   ]
  },
  {
   "cell_type": "code",
   "execution_count": 15,
   "metadata": {},
   "outputs": [
    {
     "name": "stdout",
     "output_type": "stream",
     "text": [
      "Empty DataFrame\n",
      "Columns: []\n",
      "Index: []\n"
     ]
    }
   ],
   "source": [
    "print (df)"
   ]
  },
  {
   "cell_type": "code",
   "execution_count": 16,
   "metadata": {},
   "outputs": [
    {
     "data": {
      "text/html": [
       "<div>\n",
       "<table border=\"1\" class=\"dataframe\">\n",
       "  <thead>\n",
       "    <tr style=\"text-align: right;\">\n",
       "      <th></th>\n",
       "    </tr>\n",
       "  </thead>\n",
       "  <tbody>\n",
       "  </tbody>\n",
       "</table>\n",
       "</div>"
      ],
      "text/plain": [
       "Empty DataFrame\n",
       "Columns: []\n",
       "Index: []"
      ]
     },
     "execution_count": 16,
     "metadata": {},
     "output_type": "execute_result"
    }
   ],
   "source": [
    "df"
   ]
  },
  {
   "cell_type": "code",
   "execution_count": 35,
   "metadata": {},
   "outputs": [
    {
     "name": "stdout",
     "output_type": "stream",
     "text": [
      "kim+swee\n"
     ]
    }
   ],
   "source": [
    "i = 'kim'\n",
    "j = 'swee'\n",
    "full= i+'+'+j\n",
    "print (full)"
   ]
  },
  {
   "cell_type": "code",
   "execution_count": null,
   "metadata": {
    "collapsed": true
   },
   "outputs": [],
   "source": []
  }
 ],
 "metadata": {
  "anaconda-cloud": {},
  "kernelspec": {
   "display_name": "Python 3",
   "language": "python",
   "name": "python3"
  },
  "language_info": {
   "codemirror_mode": {
    "name": "ipython",
    "version": 3
   },
   "file_extension": ".py",
   "mimetype": "text/x-python",
   "name": "python",
   "nbconvert_exporter": "python",
   "pygments_lexer": "ipython3",
   "version": "3.6.1"
  }
 },
 "nbformat": 4,
 "nbformat_minor": 1
}
